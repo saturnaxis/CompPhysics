{
 "cells": [
  {
   "cell_type": "markdown",
   "metadata": {},
   "source": [
    "# Python Basics"
   ]
  },
  {
   "cell_type": "markdown",
   "metadata": {},
   "source": [
    "## What is Python?\n",
    "\n",
    "Python is an interpreted high-level programming language that converts human-friendly commands into computer instructions.  This means that it takes human-readable code as input and then interprets the code into machine language.  In a sense, other computer languages involve a similar process; however languages like C/C++ or Fortran are much more efficient at it.  But, those languages are categorized as compiled languages because they are converted to machine code once the compilation process is complete.  Python programs are analyzed by the interpreter \"on the fly\", which causes Python to run much slower.  Luckily, hardware and software (OS) improvements have been so dramatic over the past 30+ years that the hit to performance is not as noticeable.  The advantage to coding in an interpreted language is that it is easier to tweak and debug because the variables are stored in local memory and there is no need to re-compile with every change.\n",
    "\n",
    "Additionally, Python can be easily run from the command-line, which allows users to experiment with Python commands without having to create a fully fledged program.  For this course, we will make use of Juptyer notebooks, which are similar to notebooks in Mathematica.  In the previous chapter, we experimented with storing variables and creating a numpy array.  Python can be used for arthimetic tasks as well.  Try this:"
   ]
  },
  {
   "cell_type": "code",
   "execution_count": 10,
   "metadata": {},
   "outputs": [
    {
     "data": {
      "text/plain": [
       "64"
      ]
     },
     "execution_count": 10,
     "metadata": {},
     "output_type": "execute_result"
    }
   ],
   "source": [
    "x = 4\n",
    "y = 16\n",
    "x*y"
   ]
  },
  {
   "cell_type": "code",
   "execution_count": 11,
   "metadata": {},
   "outputs": [
    {
     "data": {
      "text/plain": [
       "4294967296"
      ]
     },
     "execution_count": 11,
     "metadata": {},
     "output_type": "execute_result"
    }
   ],
   "source": [
    "x**y"
   ]
  },
  {
   "cell_type": "code",
   "execution_count": 12,
   "metadata": {},
   "outputs": [
    {
     "data": {
      "text/plain": [
       "4.0"
      ]
     },
     "execution_count": 12,
     "metadata": {},
     "output_type": "execute_result"
    }
   ],
   "source": [
    "y/x"
   ]
  },
  {
   "cell_type": "markdown",
   "metadata": {},
   "source": [
    "In the first line, the notebood stores the integer (*int*) 4 into memory and gives it a label 'x', where in the second line a similar action is performed where the label is 'y'.  Under most conditions, Python will assume the number is an 64-bit integer when there is not a decimal point.  The product of two integers is also an integer and hence, the operation x*y returns 64 as an integer.\n",
    "\n",
    "An integer raised to an integer power (Note: Python uses \\*\\* for exponents instead of ^) is simply the repeated product of integers.  Therefore x\\*\\*y is equivalent to $4^{16}$ and Python returns a large integer.  The division of two numbers can sometimes be confusing for the interpreter and depend on the version of Python.  In the past, the division of two integers would return an integer (e.g., 4/2 = 2), but **what would happen for 2/4**?\n",
    "\n",
    "A good practice is to use the decimal point during multiplaction or division.  This removes the ambiguity for the interpreter and forces it to return a floating point number (*float*).  For example:"
   ]
  },
  {
   "cell_type": "code",
   "execution_count": 19,
   "metadata": {},
   "outputs": [
    {
     "data": {
      "text/plain": [
       "0"
      ]
     },
     "execution_count": 19,
     "metadata": {},
     "output_type": "execute_result"
    }
   ],
   "source": [
    "int(2/4)"
   ]
  },
  {
   "cell_type": "code",
   "execution_count": 20,
   "metadata": {},
   "outputs": [
    {
     "data": {
      "text/plain": [
       "0.5"
      ]
     },
     "execution_count": 20,
     "metadata": {},
     "output_type": "execute_result"
    }
   ],
   "source": [
    "2./4."
   ]
  },
  {
   "cell_type": "markdown",
   "metadata": {},
   "source": [
    "You may be asking where this might be important.  Python includes a function for square root (e.g., $\\sqrt{x}$ = sqrt(X)), but not for higher roots.  Some Python (and C) programs will change 1/3 from a cube root into 0 and return 1."
   ]
  },
  {
   "cell_type": "markdown",
   "metadata": {},
   "source": [
    "## Comments\n",
    "\n",
    "Every programming language allows for the programmer to leave notes (or comments) within the code.  Adding comments to your code is very important because\n",
    "\n",
    "- You and *future you* need to communicate; It is not uncommon to write some code and comeback to it more than 6 months later.  After which, some unkind words maybe directed at *past you* from yourself for not leaving comments.\n",
    "- The *future person* to read the code may not be *future you* and they will not konw what you were thinking.\n",
    "\n",
    "Comments can be designated with the \\# (hashtag) symbol, where the text that follows it is ignored by the interpreter until the next line.  However this can be impractical if you are providing a description of a function that takes many lines.  In this case, three \\' (apostrophe) symbols are used to begin a *block comment*, where another three \\' symbols are needed to end the block comment.  Otherwise, the interpeter will either return an error or not do anything at all."
   ]
  },
  {
   "cell_type": "markdown",
   "metadata": {},
   "source": [
    "## Simple Input \\& Output\n",
    "\n",
    "In the previous chapter, we read from a file using the *genfromtxt* function from Numpy, but you may want to take in some user input \"on the fly\".  This can be accomplished using the *input* function, where you will need to designate a variable to store the user input.  For example:"
   ]
  },
  {
   "cell_type": "code",
   "execution_count": 26,
   "metadata": {},
   "outputs": [
    {
     "name": "stdout",
     "output_type": "stream",
     "text": [
      "Arthur, King of the Britains\n"
     ]
    }
   ],
   "source": [
    "name = input(\"What is your name?\")\n",
    "print(name)"
   ]
  },
  {
   "cell_type": "code",
   "execution_count": 27,
   "metadata": {},
   "outputs": [
    {
     "name": "stdout",
     "output_type": "stream",
     "text": [
      "To search for the Holy Grail\n"
     ]
    }
   ],
   "source": [
    "quest = input(\"What is your quest?\")\n",
    "print(quest)"
   ]
  },
  {
   "cell_type": "code",
   "execution_count": 28,
   "metadata": {},
   "outputs": [
    {
     "name": "stdout",
     "output_type": "stream",
     "text": [
      "100 <class 'str'>\n"
     ]
    }
   ],
   "source": [
    "airspeed = input(\"What is the airspeed of a laden swallow?\")\n",
    "print(airspeed, type(airspeed))"
   ]
  },
  {
   "cell_type": "markdown",
   "metadata": {},
   "source": [
    "Notice in the above examples that *input* stored the user input as a string of characters (*string* or *str*).  \n",
    "\n",
    "Output can be directed to a file or the command prompt.  For the command prompt, you can print stored variables using the *print* function.  To determine the data type of a stored variable, use the *type* function. *Note: that type can return datatypes like ndarray for numpy array as well as string, int, or float.*\n",
    "\n",
    "Printing variables isn't limited to strings, but can be useful for probing numerical variatbles when debugging your code.  For example, you might think your code is doing one thing, when in fact it is doing something else entirely.  Python borrows a print syntax that is simlar to the one used in C/C++ programs.  Let's look at the value of $\\pi$."
   ]
  },
  {
   "cell_type": "code",
   "execution_count": 30,
   "metadata": {},
   "outputs": [
    {
     "name": "stdout",
     "output_type": "stream",
     "text": [
      "3.141592653589793\n"
     ]
    }
   ],
   "source": [
    "import numpy as np\n",
    "pi = np.pi\n",
    "print(pi)"
   ]
  },
  {
   "cell_type": "markdown",
   "metadata": {},
   "source": [
    "In the above code, we imported the `numpy` module and gave it a label *np* for easier referencing.  Then, the value of $\\pi$ from numpy was stored as a float in the variable `pi`.  Finally, $\\pi$ was printed in machine (or double) precision (15 decimal places).  *Note that some versions of Python default to single precision (8 decimal places).*\n",
    "\n",
    "Maybe we want to know $\\pi$ to a four decimal places, as an integer, or in scientific notation.  Then we can use the following:"
   ]
  },
  {
   "cell_type": "code",
   "execution_count": 31,
   "metadata": {},
   "outputs": [
    {
     "data": {
      "text/plain": [
       "'Pi to 4 decimal places is: 3.1416'"
      ]
     },
     "execution_count": 31,
     "metadata": {},
     "output_type": "execute_result"
    }
   ],
   "source": [
    "\"Pi to 4 decimal places is: %1.4f\" % pi"
   ]
  },
  {
   "cell_type": "code",
   "execution_count": 33,
   "metadata": {},
   "outputs": [
    {
     "data": {
      "text/plain": [
       "'Pi as an integer is: 3'"
      ]
     },
     "execution_count": 33,
     "metadata": {},
     "output_type": "execute_result"
    }
   ],
   "source": [
    "\"Pi as an integer is: %d\" % pi"
   ]
  },
  {
   "cell_type": "code",
   "execution_count": 35,
   "metadata": {},
   "outputs": [
    {
     "data": {
      "text/plain": [
       "'10*Pi to 8 decimal places, but in Scientific Notation is: 3.14159265e+01'"
      ]
     },
     "execution_count": 35,
     "metadata": {},
     "output_type": "execute_result"
    }
   ],
   "source": [
    "\"10*Pi to 8 decimal places, but in Scientific Notation is: %1.8e\" % (10*pi)"
   ]
  },
  {
   "cell_type": "markdown",
   "metadata": {},
   "source": [
    "Some of the common string formatting indicators are:\n",
    "\n",
    "| Format | Description |\n",
    "|--------|-------------|\n",
    "|%xd | Integer value with the total width *x*|\n",
    "|%x.yf | Floating point value with a pre-allocated width *x* and *y* decimal places. Note the total width will be expanded so that it includes the decimal places and the decimal point can count towards the total width.|\n",
    "|%x.ye | Scientific (exponential) notation with the total width *x* and *y* decimal places.|\n",
    "|%xs | String of characters with total width *x*|\n",
    "\n",
    "Python 3 introduced a new way to format strings using the *format* function.  Let's use the example that `6 bananas cost \\$1.74`"
   ]
  },
  {
   "cell_type": "code",
   "execution_count": 36,
   "metadata": {},
   "outputs": [
    {
     "data": {
      "text/plain": [
       "'6 bananas cost $1.74'"
      ]
     },
     "execution_count": 36,
     "metadata": {},
     "output_type": "execute_result"
    }
   ],
   "source": [
    "print('{0} {1} cost ${2}'.format(6,'bananas',1.74))"
   ]
  },
  {
   "cell_type": "markdown",
   "metadata": {},
   "source": [
    "![format_example](https://files.realpython.com/media/t.e6b8525755da.png)|\n",
    "|:--:| \n",
    "|Example taken from [realpython.com](https://realpython.com/python-formatted-output/)|\n",
    "\n",
    "We can obtain the same functionality in defining the number formatting using `:x.yf` after the position in the {} of the format template."
   ]
  },
  {
   "cell_type": "code",
   "execution_count": 41,
   "metadata": {},
   "outputs": [
    {
     "name": "stdout",
     "output_type": "stream",
     "text": [
      "6 bananas cost $1.74\n"
     ]
    }
   ],
   "source": [
    "print('{0:1d} {1} cost ${2:1.2f}'.format(6,'bananas',1.74))"
   ]
  },
  {
   "cell_type": "markdown",
   "metadata": {},
   "source": [
    "## Variable Types\n",
    "\n",
    "Thus far, I hinted at the different types of variables in Python.  Those are the typical variables that exist in all programming languates.  However, there are two broad divisions in variable types in Python: a) *numeric* and *sequence* types. Numeric types hold a single number, such as an integer, floating point number, or a complex number (e.g., 2-3*i*).  Sequence types hold multiple objects (imagine a filled grocery bag), which could be single numbers, characters, or even collections of different things.\n",
    "\n",
    "- Numeric Types\n",
    "    - **Integer**: The integer is the simplest numeric type in Python.  They are useful for counting items or tracking indices in an array. The maximum 32 bit integer is $2^{31}$ - 1 = 2,147,483,647\n",
    "    - **Long Integer**: Integers larger than $2^{31}$ - 1 are stored automatically as long integers.  When you use the *type* function on them, there is a trailing \"L\" to indicate it is a long integer.\n",
    "    - **Float**: The *floating point* type is a number containing a decimal point.  Floats require more memory to store and are slower in calculations.  Python upconverts variable types (recall the 1/2 = 0 vs 1./2 = 0.5 distinction).\n",
    "    - **Complex**: Complex numbers are naturally included in Python, but uses $j\\equiv\\sqrt{-1}$. For example, $x=0.5+1.2j$ is a valid complex number.\n",
    "- Sequence Types\n",
    "    - **Tuple**: Tuples are indicated by parentheses (). Items in tuples can be any other data type, including other tuples.  Tuples are *immutable*, meaning that once defined their contents cannot change.\n",
    "    - **List**: Lists are indicated by square brackets [] and are almost the same as tuples.  However, lists are *mutable*: individual items in a list can be changed.\n",
    "    - **String**: A string is a sequence of characters. Strings are surrounded by either double \\\" or single \\' quotes.  Strings are *immutable* (like tuples), but can only include characters.\n",
    "        - *Reserved characters*: Some characters are reserved (like \\# for comments), but can be used with an escape \\\\.  \n",
    "        - *Tab and Newline*: To indicate a <tab> character, use an escape \\\\ + t (\"\\t\").  A similar approach is used for a newline (\"\\n\").\n",
    "    - **Dictionary**: Dictionaries are indicated by curly brackets {}. The are different because they use \"keys\" (which are string labels) instead of numeric indices. Dictionaries are useful when managing data, where you want to assign the column header of a table as the key instead of referencing the column index.\n",
    "    \n",
    "Here are some examples of sequence types"
   ]
  },
  {
   "cell_type": "code",
   "execution_count": 43,
   "metadata": {},
   "outputs": [
    {
     "name": "stdout",
     "output_type": "stream",
     "text": [
      "Cleese Idle Gilliam\n",
      "('Palin', 'Idle')\n"
     ]
    },
    {
     "ename": "TypeError",
     "evalue": "'tuple' object does not support item assignment",
     "output_type": "error",
     "traceback": [
      "\u001b[1;31m---------------------------------------------------------------------------\u001b[0m",
      "\u001b[1;31mTypeError\u001b[0m                                 Traceback (most recent call last)",
      "\u001b[1;32m<ipython-input-43-0030cd098352>\u001b[0m in \u001b[0;36m<module>\u001b[1;34m\u001b[0m\n\u001b[0;32m      7\u001b[0m \u001b[1;33m\u001b[0m\u001b[0m\n\u001b[0;32m      8\u001b[0m \u001b[1;31m#Let's see what happens if we try to replace an element of a tuple\u001b[0m\u001b[1;33m\u001b[0m\u001b[1;33m\u001b[0m\u001b[1;33m\u001b[0m\u001b[0m\n\u001b[1;32m----> 9\u001b[1;33m \u001b[0mPythons\u001b[0m\u001b[1;33m[\u001b[0m\u001b[1;36m1\u001b[0m\u001b[1;33m]\u001b[0m \u001b[1;33m=\u001b[0m \u001b[1;34m\"Atkinson\"\u001b[0m\u001b[1;33m\u001b[0m\u001b[1;33m\u001b[0m\u001b[0m\n\u001b[0m",
      "\u001b[1;31mTypeError\u001b[0m: 'tuple' object does not support item assignment"
     ]
    }
   ],
   "source": [
    "Pythons = (\"Cleese\", \"Palin\", \"Idle\", \"Chapman\", \"Jones\", \"Gilliam\")\n",
    "#Note that the index counting begins from zero and counting can be startied \\\n",
    "# from the end of the type using negative numbers (starting from 1)\n",
    "print(Pythons[0],Pythons[2],Pythons[-1])\n",
    "\n",
    "#One can also specify a slice of a sequence, where slices start on the first\\\n",
    "#  index : terminate when reaching the second index (but do not include it)\n",
    "print(Pythons[1:3])\n",
    "\n",
    "#Let's see what happens if we try to replace an element of a tuple\n",
    "Pythons[1] = \"Atkinson\""
   ]
  },
  {
   "cell_type": "code",
   "execution_count": 46,
   "metadata": {},
   "outputs": [
    {
     "name": "stdout",
     "output_type": "stream",
     "text": [
      "Pythons is a tuple and immutable;  Let's change it to a list with []\n",
      "['Cleese', 'Atkinson', 'Idle', 'Chapman', 'Jones', 'Gilliam']\n"
     ]
    }
   ],
   "source": [
    "print(\"Pythons is a tuple and immutable;  Let's change it to a list with []\")\n",
    "Pythons = [\"Cleese\", \"Palin\", \"Idle\", \"Chapman\", \"Jones\", \"Gilliam\"]\n",
    "#Let's see what happens if we try to replace an element of a list\n",
    "Pythons[1] = \"Atkinson\"\n",
    "print(Pythons)"
   ]
  },
  {
   "cell_type": "markdown",
   "metadata": {},
   "source": [
    "Another example is creating a 2-dimensional array or matrix"
   ]
  },
  {
   "cell_type": "code",
   "execution_count": 47,
   "metadata": {},
   "outputs": [
    {
     "name": "stdout",
     "output_type": "stream",
     "text": [
      "[[1, 2, 3], [4, 5, 6], [7, 8, 9]]\n"
     ]
    }
   ],
   "source": [
    "matrix = [[1,2,3],[4,5,6],[7,8,9]]\n",
    "#matrix is list of lists, where each row is its own list (columns)\n",
    "print(matrix)"
   ]
  },
  {
   "cell_type": "markdown",
   "metadata": {},
   "source": [
    "Think about how to reference values constructed as a list of lists like `matrix`.  **How can we reference `5`?** (Remember that indices start from zero!)"
   ]
  },
  {
   "cell_type": "code",
   "execution_count": 48,
   "metadata": {},
   "outputs": [
    {
     "data": {
      "text/plain": [
       "[4, 5, 6]"
      ]
     },
     "execution_count": 48,
     "metadata": {},
     "output_type": "execute_result"
    }
   ],
   "source": [
    "matrix[1]"
   ]
  },
  {
   "cell_type": "code",
   "execution_count": 50,
   "metadata": {},
   "outputs": [
    {
     "name": "stdout",
     "output_type": "stream",
     "text": [
      "5\n",
      "0\n"
     ]
    }
   ],
   "source": [
    "print(matrix[1][1])\n",
    "matrix[1][1] = 0\n",
    "print(matrix[1][1])"
   ]
  },
  {
   "cell_type": "markdown",
   "metadata": {},
   "source": [
    "This type of list construction requires the [i][j] method of indexing and it applies to tuples of tuples as well.  This is a little clumsy, where we it would be clearer to have [i,j] indexing, where i=>row and j=>column.  This can be accomplished by converting `matrix` from a list into a Numpy matrix. (Recall that the numpy module was loaded earlier when converting strings.)"
   ]
  },
  {
   "cell_type": "code",
   "execution_count": 53,
   "metadata": {},
   "outputs": [
    {
     "name": "stdout",
     "output_type": "stream",
     "text": [
      "[[1 2 3]\n",
      " [4 0 6]\n",
      " [7 8 9]]\n",
      "The element in the 0th row and 2nd column is:  3\n"
     ]
    }
   ],
   "source": [
    "matrix = np.matrix(matrix)\n",
    "print(matrix)\n",
    "#Notice that the commas have been removed and the matrix starts \\\n",
    "# looking like a more traditional matrix\n",
    "print(\"The element in the 0th row and 2nd column is: \",matrix[0,2])"
   ]
  },
  {
   "cell_type": "markdown",
   "metadata": {},
   "source": [
    "### Sequence Tricks\n",
    "\n",
    "If you are needing to store of *N* numbers, but don't know the values beforehand.  Here are two ways:\n",
    "\n",
    "1. Create an empty list with the needed length\n",
    "2. Create an empty array filled with ones/zeros"
   ]
  },
  {
   "cell_type": "code",
   "execution_count": 57,
   "metadata": {},
   "outputs": [
    {
     "name": "stdout",
     "output_type": "stream",
     "text": [
      "5 [None, None, None, 3.141592653589793, None]\n",
      "5 [0.         0.         1.57079633 0.         0.        ]\n"
     ]
    }
   ],
   "source": [
    "N = 5\n",
    "LongList = [None]*N\n",
    "LongList[3] = np.pi\n",
    "print(len(LongList),LongList)\n",
    "\n",
    "LongList = np.zeros(N) #Note that this overwrites the previous variable\n",
    "LongList[2] = np.pi/2\n",
    "print(len(LongList),LongList)"
   ]
  },
  {
   "cell_type": "markdown",
   "metadata": {},
   "source": [
    "where it depends on what you want to store.  Approach #1 would be more useful if you were storing strings or different data types.  Sometimes you may not know exactly how many list elements you need until after the fact.  Elements can be added to the end of a list using the **[list].append()** function.  Here's an example:"
   ]
  },
  {
   "cell_type": "code",
   "execution_count": 60,
   "metadata": {},
   "outputs": [
    {
     "name": "stdout",
     "output_type": "stream",
     "text": [
      "[]\n",
      "[4]\n"
     ]
    }
   ],
   "source": [
    "Values = []\n",
    "print(Values)\n",
    "#Some calculation is done and you need to store NewValue into the Values list for later\n",
    "NewValue = 4\n",
    "#The append function acts on the list object *Values* and takes the NewValue as input\n",
    "Values.append(NewValue)\n",
    "print(Values)"
   ]
  },
  {
   "cell_type": "markdown",
   "metadata": {},
   "source": [
    "Notice that we started with an *empty* list.  In this case appending to it just adds one element.  **Go back and fill Values with a few numbers.  Then re-run the cell.**  Now you can see the NewValue is indeed added to the end of the list."
   ]
  },
  {
   "cell_type": "markdown",
   "metadata": {},
   "source": [
    "Another handy trick is sorting.  There are two types of sorting: in-place (sort) or return (sorted).  In some cases you may want to sort a list but also want to preserve the original list; this is where the second option becomse useful. Luckily, these two options are implemented differently to help distinguish between them.  The **sort** function acts on a list object, where the **sorted** function takes the list as an argument (input) to return."
   ]
  },
  {
   "cell_type": "code",
   "execution_count": 69,
   "metadata": {},
   "outputs": [
    {
     "name": "stdout",
     "output_type": "stream",
     "text": [
      "The original list:  [5, 3, 7, 6, 2, 7, 2, 9, 4, 0]\n",
      "The sorted list:  [0, 2, 2, 3, 4, 5, 6, 7, 7, 9]\n",
      "Sorting in-place using sort:  [0, 2, 2, 3, 4, 5, 6, 7, 7, 9]\n",
      "Sorting strings in-place:  ['Dick', 'Harry', 'Mary', 'Nina', 'Sally', 'Tommy']\n",
      "Replacing an element of ValueData with a string:  [0, 2, 2, 3, 'Nina', 5, 6, 7, 7, 9]\n"
     ]
    }
   ],
   "source": [
    "ValueData = [5,3,7,6,2,7,2,9,4,0]\n",
    "StringData =[\"Tommy\",\"Dick\",\"Harry\",\"Sally\",\"Mary\",\"Nina\"]\n",
    "\n",
    "New_ValueData = sorted(ValueData) #returning the sorted list into a new variable\n",
    "print(\"The original list: \",ValueData)\n",
    "print(\"The sorted list: \", New_ValueData)\n",
    "\n",
    "\n",
    "ValueData.sort()\n",
    "print(\"Sorting in-place using sort: \",ValueData)\n",
    "StringData.sort()\n",
    "print(\"Sorting strings in-place: \", StringData)\n",
    "\n",
    "ValueData[4] = StringData[3]\n",
    "print(\"Replacing an element of ValueData with a string: \",ValueData)\n",
    "\n"
   ]
  },
  {
   "cell_type": "markdown",
   "metadata": {},
   "source": [
    "The last two lines mixed the data types so that a string is now in the list of values.  **Do you think a sort will work?**"
   ]
  },
  {
   "cell_type": "markdown",
   "metadata": {},
   "source": [
    "### Iterables\n",
    "\n",
    "Python allows for special functions called *iterables* that can contain the instructions to generate a list without allocating the memory.  A common iterable is the **range** function, which generates a list of *integers* given three parameters: starting value, stopping value, and increment (must be an integer).  This is especially useful if you need to quickly generate a range of indices for a process or array."
   ]
  },
  {
   "cell_type": "code",
   "execution_count": 78,
   "metadata": {},
   "outputs": [
    {
     "name": "stdout",
     "output_type": "stream",
     "text": [
      "[0, 1, 2, 3, 4, 5, 6, 7, 8, 9, 10, 11, 12, 13, 14, 15, 16, 17, 18, 19, 20, 21, 22, 23, 24, 25, 26, 27, 28, 29, 30, 31, 32, 33, 34, 35, 36, 37, 38, 39, 40, 41, 42, 43, 44, 45, 46, 47, 48, 49, 50, 51, 52, 53, 54, 55, 56, 57, 58, 59, 60, 61, 62, 63, 64, 65, 66, 67, 68, 69, 70, 71, 72, 73, 74, 75, 76, 77, 78, 79, 80, 81, 82, 83, 84, 85, 86, 87, 88, 89, 90, 91, 92, 93, 94, 95, 96, 97, 98, 99]\n"
     ]
    }
   ],
   "source": [
    "#Create a list of 100 numbers for a graph axis\n",
    "axis = list(range(0,100))\n",
    "print(axis)"
   ]
  },
  {
   "cell_type": "code",
   "execution_count": 79,
   "metadata": {},
   "outputs": [
    {
     "name": "stdout",
     "output_type": "stream",
     "text": [
      "[6, 8, 10, 12, 14, 16]\n"
     ]
    }
   ],
   "source": [
    "#Create a list of even numbers from 6 up to 17.\n",
    "Evens = list(range(6,17,2))\n",
    "print(Evens)"
   ]
  },
  {
   "cell_type": "markdown",
   "metadata": {},
   "source": [
    "We often need a more flexible means of generating a list of values.  *Suppose that we want to generate a list of floating point numbers.*  The previous trick can be modified."
   ]
  },
  {
   "cell_type": "code",
   "execution_count": 82,
   "metadata": {},
   "outputs": [
    {
     "name": "stdout",
     "output_type": "stream",
     "text": [
      "[0.0, 0.02, 0.04, 0.06, 0.08, 0.1, 0.12, 0.14, 0.16, 0.18]\n",
      "[0.   0.02 0.04 0.06 0.08 0.1  0.12 0.14 0.16 0.18]\n"
     ]
    }
   ],
   "source": [
    "axis = [0.02 * i for i in range(0,100)]\n",
    "#Only printing the first 10 values for this example\n",
    "print(axis[:10])\n",
    "\n",
    "#Another way is to use the **arange** function from Numpy, \\\n",
    "# where the difference is whether you need a list or array returned\n",
    "np_axis = np.arange(0,100,0.02)\n",
    "print(np_axis[:10])"
   ]
  },
  {
   "cell_type": "markdown",
   "metadata": {},
   "source": [
    "List can become iterables themselves too."
   ]
  },
  {
   "cell_type": "code",
   "execution_count": 87,
   "metadata": {},
   "outputs": [
    {
     "name": "stdout",
     "output_type": "stream",
     "text": [
      "[0.0, 0.2, 0.4, 0.6, 0.8, 1.0, 1.2, 1.4000000000000001, 1.6, 1.7999999999999998]\n"
     ]
    }
   ],
   "source": [
    "new_axis = [a*10 for a in axis]\n",
    "print(new_axis[:10])\n",
    "\n",
    "#Notice that some values are not exact.\n",
    "#Axis was stored in memory as floating point numbers with \\\n",
    "# limited precision\n",
    "#Iterating over floats like this can generate some \\\n",
    "# unexpected results due to the limitation of numerical precision"
   ]
  },
  {
   "cell_type": "markdown",
   "metadata": {},
   "source": [
    "## Mathematical Operators\n",
    "\n",
    "Thus far, you have seen typical arithmetic operators +-*/ on numerical values.  However, these operators don't work the same way with lists.  The + operator for two lists does not add them together, rather it **concatenates** them (i.e., joins the lists).  A simliar process occurs with strings because they are lists of characters.  The * operator makes copies of lists instead of multiplying the elements.\n",
    "\n",
    "Division (/) has a few quirks, where it works fine for floats.  But it does *third-grade* math for integers (i.e., the result is the integer portion of the actual answer).  There are instances when you might want the *third-grade* math behavior for floats, in which case you can use the floor division (//) operator.  At the beginning of this chapter, you saw that ** is responsible for exponentiation.  The modulo operator (%) returns the remainder, although it was also used for string conversions."
   ]
  },
  {
   "cell_type": "code",
   "execution_count": 100,
   "metadata": {},
   "outputs": [
    {
     "name": "stdout",
     "output_type": "stream",
     "text": [
      "Jack and Jill went up the hill\n",
      "['Jack', 'and', 'Jill', 'went', 'up', 'the', 'hill']\n",
      "2\n",
      "16\n",
      "Remainder of 10 % 3 is:  1\n"
     ]
    }
   ],
   "source": [
    "#Examples of Operators\n",
    "String_a = \"Jack and Jill\"\n",
    "String_b = \" went up the hill\"\n",
    "print(String_a + String_b) #Concatenation of strigs using +\n",
    "\n",
    "List_a = [\"Jack\",\"and\",\"Jill\"]\n",
    "List_b = [\"went\",\"up\",\"the\",\"hill\"]\n",
    "print(List_a+List_b) #Concatenation of lists using +\n",
    "\n",
    "print(10//4)\n",
    "\n",
    "print(2**4)\n",
    "\n",
    "remainder = 10 % 3\n",
    "print(\"Remainder of 10 % 3 is: \",remainder)"
   ]
  },
  {
   "cell_type": "markdown",
   "metadata": {},
   "source": [
    "There are also some shortcut operators, that help reduce the amount of code.  *Suppose you want to increment a counter*.  The += operator is a shortcut for when you want to perfom an addition and immediately replace the value stored in the variable.  Similar operators exist for other arithmetic operators as *=, /=, or -=.  These operators are best for people to generate code more quickly, but do not affect the speed of the code.  Sometimes they make the code harder to read by others, so use them cautiously."
   ]
  },
  {
   "cell_type": "code",
   "execution_count": 103,
   "metadata": {},
   "outputs": [
    {
     "name": "stdout",
     "output_type": "stream",
     "text": [
      "The initial value is  0\n",
      "The next value is  1\n",
      "The next value is  2\n"
     ]
    }
   ],
   "source": [
    "#Create a counter and increment it\n",
    "counter = 0\n",
    "print(\"The initial value is \", counter)\n",
    "counter = counter + 1 #this is the long way\n",
    "print(\"The next value is \", counter)\n",
    "counter += 1 #this is the short way\n",
    "print(\"The next value is \", counter)"
   ]
  },
  {
   "cell_type": "markdown",
   "metadata": {},
   "source": [
    "## Lines in Python\n",
    "\n",
    "Python uses spaces and indentation as part of the syntax.  This is in contrast to C/C++, Fortran, or JAVA that use (), {}, or ; to separate out bits of code.  The Python interpreter actually cares about blank spaces before commands on a line.  As a result, there are two types of lines: **physical** or **logical** lines."
   ]
  },
  {
   "cell_type": "code",
   "execution_count": 106,
   "metadata": {},
   "outputs": [
    {
     "name": "stdout",
     "output_type": "stream",
     "text": [
      "This line is a physical line and a logical line\n",
      "['This', 'line', 'is', 'a', 'physical', 'line', 'and', 'a', 'logical', 'line']\n",
      "this line is multiple     physical lines but is     just one logical line\n",
      "['this', 'line', 'is', 'multiple', 'physical', 'lines', 'but', 'is', 'just', 'one', 'logical', 'line']\n"
     ]
    }
   ],
   "source": [
    "#Show the differences between a physical line and a logical line\n",
    "\n",
    "x = \"This line is a physical line and a logical line\"\n",
    "print(x)\n",
    "x = x.split() #The split function helps split a string into a list\n",
    "print(x)\n",
    "#Note that the \\ at the end of a line creates a soft line \\\n",
    "# break (i.e., breaks the physical line, but not the logical one);\n",
    "x = \"this line is multiple \\\n",
    "    physical lines but is \\\n",
    "    just one logical line\"\n",
    "print(x)\n",
    "x = x.split() \n",
    "print(x) #Notice that split removes the extra spaces"
   ]
  },
  {
   "cell_type": "markdown",
   "metadata": {},
   "source": [
    "## Control Structures\n",
    "\n",
    "Control statements direct or modify the flow of logic within a program thereby allowing the program to be flexible depending on what happens.  For example, \"If you are hungry, then eat lunch\" is a control statement.  Control statements require a conditional (boolean) to evaluate before taking an action.  Most control statments have a clear end point, where **While** does not (be careful with while loops).\n",
    "\n",
    "Conditionals\n",
    "A conditional is anything that can be evaluated as either **True** or **False**. In Python, the following things are always False:\n",
    "- The word **False** (note the captialization)\n",
    "- 0, 0L, or 0.0\n",
    "- \"\" or '' (an empty string)\n",
    "- (), [], or {} (an empty sequence)\n",
    "\n",
    "Almost everything else is True:\n",
    "- 1, 3.14, 42 (True because they aren't zero)\n",
    "- The word **True** (note the captialization)\n",
    "- \"False\", \"0\", or [0,False,(),\"\"] (Why are these true?)\n",
    "\n",
    "Conditionals have operators to evaluate the relationship between objects, which may be true or false.\n",
    "- \\< Less than\n",
    "- \\> Greater than\n",
    "- \\<=  Less than including equal to\n",
    "- \\>= Greater than including equal to\n",
    "- == Equal to\n",
    "- != **Not** equal to\n",
    "\n",
    "Note that = is an assignment (i.e., store something to a variable), where == is a conditional (i.e., are two obects congruent).  *This is one of the most common bugs in Python programs, where an = is missed.*  There are also the boolean operators **and**, **or**, **in** and **not**."
   ]
  },
  {
   "cell_type": "code",
   "execution_count": 108,
   "metadata": {},
   "outputs": [
    {
     "name": "stdout",
     "output_type": "stream",
     "text": [
      "No, you're an impostor!\n"
     ]
    }
   ],
   "source": [
    "Name = input(\"What is your name?\")\n",
    "Cast = Pythons\n",
    "if Name in Cast:\n",
    "    print(\"Yes, \",Name,\" is a member of Monty Python\")\n",
    "else:\n",
    "    print(\"No, you're an impostor!\")"
   ]
  },
  {
   "cell_type": "markdown",
   "metadata": {},
   "source": [
    "In the above example, there are two print statements.  Depending on the user input stored in *Name*, a different print statement is evaluated.  This demonstrates the most basic control statement **If...Else**.  More generally this can become:\n",
    "```\n",
    "if (Check if these are the droids you're looking for): #The colon (:) signifies the end of a conditional  \n",
    "   Grab them \n",
    "elif (These might be them): #Check another condition, maybe there are many \n",
    "    Ask your superiors  \n",
    "else: #Finally after checking everything else  \n",
    "   Fall for the Jedi mind trick  \n",
    "\n",
    "Go about your business, move along\n",
    "```  \n",
    "Python uses the indentation to determine where the conditional ends, so the non-indented lines are executed after the conditional statements are checked.  In other computer languages, indentation is used to make the code easier to read; but the is a defining trait in Python.  **The indentation is not optional**.\n",
    "\n",
    "The **while** statement is used to repeat a block of commands until a condition is met.  The most common example is the instructions given on shampoo.  \n",
    "\n",
    "```\n",
    "while (in the shower):\n",
    "   extract shampoo from bottle into hand\n",
    "   apply to hair\n",
    "   lather\n",
    "   rinse\n",
    "```\n",
    "\n",
    "In this statment that instructions are give while the condition (in the shower) is True and repeated until that condition is False.  Notice that there is not a conditional to indicate *when to stop*.  This is a common bug for new programmers, which results in an **infinite loop** and is most profitable for the shampoo manufacturers.  A proper while loop has the following structure:\n",
    "```\n",
    "while (in the shower):\n",
    "   extract shampoo from bottle into hand\n",
    "   apply to hair\n",
    "   lather\n",
    "   rinse\n",
    "   if (hair is clean):\n",
    "      get out of the shower!\n",
    "```\n",
    "There are a few keywords that can be used in conjuction with a **while** loop.\n",
    "- **pass**: The pass keyword does nothing.  Its purpose is to take up a line if there is a structural need for one.  Sometimes you have a conditional for do something or nothing.\n",
    "- **continue**: The continue keyword moves the program execution back to the while (i.e., excludes the lines that come after and increments the loop)\n",
    "- **break**: The break keyword moves the program execution to outside the while (\"breaks out\").\n",
    "- **else**: The else command delineate a block of code that is executed only after the while block executes normally (no breaks)"
   ]
  },
  {
   "cell_type": "code",
   "execution_count": 114,
   "metadata": {},
   "outputs": [
    {
     "name": "stdout",
     "output_type": "stream",
     "text": [
      "15  is divisible by  3  and thus, not prime\n"
     ]
    }
   ],
   "source": [
    "#Create a Python program to determine whether a number is prime.  \\\n",
    "# DISCLAIMER: This is not the most efficient way\n",
    "\n",
    "Number = int(input(\"What integer do you want to check?\")) #need to make sure input is an integer\n",
    "\n",
    "divisor = 2 #Use this to set floor on numbers to check\n",
    "#Main loop to test each number\n",
    "while divisor < Number:\n",
    "    if Number % divisor == 0: #if remainder is zero then Number is divisible by the number in divisor\n",
    "        print(Number,\" is divisible by \",divisor, \" and thus, not prime\")\n",
    "        break #since the number is not prime, we can stop (break out)\n",
    "    else:\n",
    "        #The remainder is not zero, we need to check another divisor\n",
    "        divisor += 1\n",
    "else:\n",
    "    #all the possible divisors were checked and failed\n",
    "    #must be prime\n",
    "    print(Number,\" is a prime number\")"
   ]
  },
  {
   "cell_type": "markdown",
   "metadata": {},
   "source": [
    "Sometimes iterating over a sequence is very straight-forward.  In that case, the **for** loop is the way to go.  The most basic syntax is:\n",
    "\n",
    "```\n",
    "#Item is a value within the Sequence (number, string, row of a matrix, etc.)\n",
    "for Item in Sequence:  \n",
    "    Do something with Item \n",
    "```\n",
    "After executing the lines within the for loop, the next Item will be the next value in the Sequence.  The most common for is `for i in range(start,stop)`, where the range function generates the sequence and *i* is simply the index within the range.  **Make sure that the Sequence is not being changed within the for loop**."
   ]
  },
  {
   "cell_type": "markdown",
   "metadata": {},
   "source": [
    "## Functions\n",
    "### Defining a function\n",
    "A **function** is a bit of code that you want to use more than once.  It can be a calculation, such as find the distance between two points, or it could be an action like draw a graph or save some data to a file.  Functions are defined using **def** and the function name must start with a letter, while the rest of the name can be composed of numbers, letters or underscore.  After the function name, there is a set of () that contains a list of input variables that are passed to the function.  The def command should end with a colon (:).  The lines following the def command are an indented block and non-indented lines (relative to the def command) are outside the function.\n",
    "\n",
    "Generally, the first line of a function is a comment block that describes the use of the function, including any assumptions for the input variables (e.g., type, format).  A function can return a value, but this is not required and depends on the inheritance of variables.  The return value can be numerical or a boolean (True or False)."
   ]
  },
  {
   "cell_type": "code",
   "execution_count": 120,
   "metadata": {},
   "outputs": [
    {
     "name": "stdout",
     "output_type": "stream",
     "text": [
      " n      n!\n",
      " 0       1\n",
      " 1       1\n",
      " 2       2\n",
      " 3       6\n",
      " 4      24\n",
      " 5     120\n",
      " 6     720\n",
      " 7    5040\n",
      " 8   40320\n",
      " 9  362880\n"
     ]
    }
   ],
   "source": [
    "#Write a function that calculates the factorial of a positive integer\n",
    "\n",
    "def factorial(n):\n",
    "    \"\"\"\n",
    "    This function calculates n! by the simplest method imaginable\n",
    "    n: input integer\n",
    "    f: return value\n",
    "    \"\"\"\n",
    "    f = 1 #the smallest factorial is 1\n",
    "    for i in range(2,n+1): #starting from 2 and stopping at n\n",
    "        f *= i\n",
    "    return f\n",
    "\n",
    "#Now that the function is created, you can call on it anytime you need to know the factorial of a number\n",
    "print(\"%2s %7s\" % ('n','n!'))\n",
    "for j in range(0,10):\n",
    "    print(\"%2d %7d\" % (j,factorial(j))) "
   ]
  },
  {
   "cell_type": "markdown",
   "metadata": {},
   "source": [
    "Functions are often used to reduce the code needed to illustrate the big picture and make it more understandable.  You are the boss and you delegate tasks to the functions because the boss can't do everything.  Your morning might look like this:\n",
    "```\n",
    "if (Time>=Morning):\n",
    "    GetUp()\n",
    "    GetDressed()\n",
    "    EatBreakfast(Spam,eggs,Spam,Spam,Spam,Spam,bacon,baked_beans,Spam)\n",
    "else:\n",
    "    ContinueSleeping()\n",
    "```\n",
    "The functions *GetDressed()* and *EatBreakfast()* typically entail many actions (i.e., quite a bit of code); but writing them as separate functions allows one to bury the details.  Writing the program as a set of functions gives you a modular flexibility (i.e., easy switching for the order of functions).  The variables that are passed into the function only exist while the funciton is active (i.e., *local* variables)."
   ]
  },
  {
   "cell_type": "code",
   "execution_count": 123,
   "metadata": {},
   "outputs": [
    {
     "name": "stdout",
     "output_type": "stream",
     "text": [
      "x^2 =  9\n",
      "x =  3\n"
     ]
    }
   ],
   "source": [
    "#Here's the function definition\n",
    "def sq(x):\n",
    "    #returns the square of a number x\n",
    "    x *= x #this step is to show that x is replaced locally\n",
    "    return x\n",
    "#Here's the main program\n",
    "x = 3 #first definition of x\n",
    "print(\"x^2 = \", sq(x)) #the return squared value is printed\n",
    "print(\"x = \",x) #the value of x is printed"
   ]
  },
  {
   "cell_type": "markdown",
   "metadata": {},
   "source": [
    "Note that the value of *x* is changed within the function, but the value of *x* is **not** changed in the main program.  The reason is that the function stores the value of *x* as a separate copy in memory but uses the same label for the copy.  \n",
    "\n",
    "Functions can have default values built-in, which is handy when on specific parameter doesn't change too much.  This is done by puttin gthe value directly into the definition line, like this:"
   ]
  },
  {
   "cell_type": "code",
   "execution_count": 124,
   "metadata": {},
   "outputs": [
    {
     "name": "stdout",
     "output_type": "stream",
     "text": [
      "42\n",
      "How many roads must a man walk down?\n"
     ]
    }
   ],
   "source": [
    "def answer2everything(A=42):\n",
    "    return A\n",
    "#main program\n",
    "print(answer2everything())\n",
    "print(answer2everything(\"How many roads must a man walk down?\"))"
   ]
  },
  {
   "cell_type": "markdown",
   "metadata": {},
   "source": [
    "At this point, it should be clear that *local* variables are in use locally.  If a Python function can't find the value of some variable, it looks outside the function.  This is handy: you can define some constants at the beginning of the program and call upon them whenever they are needed.  This is in contrast to older versions of Fortran that required you to carry the variables around and pass to each function.  Values used throughout the program are called **global** variables.\n",
    "\n",
    "*What happens in the function, stays in the function*.  At least most of the time.  There are occasions where you might want to change a value globally, in which case refer to that variable in the function as a **global**."
   ]
  },
  {
   "cell_type": "code",
   "execution_count": 127,
   "metadata": {},
   "outputs": [
    {
     "name": "stdout",
     "output_type": "stream",
     "text": [
      "initial values  4 5 6\n",
      "values after function call  4 5 9\n"
     ]
    },
    {
     "ename": "NameError",
     "evalue": "name 'd' is not defined",
     "output_type": "error",
     "traceback": [
      "\u001b[1;31m---------------------------------------------------------------------------\u001b[0m",
      "\u001b[1;31mNameError\u001b[0m                                 Traceback (most recent call last)",
      "\u001b[1;32m<ipython-input-127-f6685f47485d>\u001b[0m in \u001b[0;36m<module>\u001b[1;34m\u001b[0m\n\u001b[0;32m     11\u001b[0m \u001b[1;33m\u001b[0m\u001b[0m\n\u001b[0;32m     12\u001b[0m \u001b[1;31m#Can we print d here?\u001b[0m\u001b[1;33m\u001b[0m\u001b[1;33m\u001b[0m\u001b[1;33m\u001b[0m\u001b[0m\n\u001b[1;32m---> 13\u001b[1;33m \u001b[0mprint\u001b[0m\u001b[1;33m(\u001b[0m\u001b[0md\u001b[0m\u001b[1;33m)\u001b[0m\u001b[1;33m\u001b[0m\u001b[1;33m\u001b[0m\u001b[0m\n\u001b[0m",
      "\u001b[1;31mNameError\u001b[0m: name 'd' is not defined"
     ]
    }
   ],
   "source": [
    "a, b, c = 4, 5, 6\n",
    "def fn(a):\n",
    "    d = a #local copy of the value a that is passed in\n",
    "    a = b #the global value b replaces a\n",
    "    global c #this defines c as a global variable\n",
    "    c = 9 #this changes the value of c everywhere\n",
    "\n",
    "print(\"initial values \",a,b,c)\n",
    "fn(b) #passing in the value of b into the fn (d=a=b=5 inside fn)\n",
    "print(\"values after function call \",a,b,c)  #What will these values be?\n",
    "\n",
    "#Can we print d here?\n",
    "print(d)\n"
   ]
  },
  {
   "cell_type": "markdown",
   "metadata": {},
   "source": [
    "### Passing functions\n",
    "Python treats functions just like any other variable.  This means that you can store function in other variables or sequences.  Even passing functions into other functions is allowed."
   ]
  },
  {
   "cell_type": "code",
   "execution_count": 129,
   "metadata": {},
   "outputs": [
    {
     "name": "stdout",
     "output_type": "stream",
     "text": [
      "function value at pi/6 is:  0.49999999999999994\n",
      "function value at pi/6 is:  0.8660254037844387\n",
      "function value at pi/6 is:  0.5773502691896257\n"
     ]
    },
    {
     "data": {
      "image/png": "[encoded data removed]",
      "text/plain": [
       "<Figure size 432x288 with 1 Axes>"
      ]
     },
     "metadata": {
      "filenames": {
       "image/png": "/mnt/c/Users/satur/Documents/GitHub/Comp_Physics_I/_build/jupyter_execute/Chapter_2/Python_Basics_69_1.png"
      },
      "needs_background": "light"
     },
     "output_type": "display_data"
    }
   ],
   "source": [
    "\"\"\"\n",
    "pass_trig.py\n",
    "Demonstrates Python's ability to store functions as variables and pass those functions to other functions\n",
    "--Assumes that 'import numpy as np' has been called\n",
    "\"\"\"\n",
    "import matplotlib.pyplot as plt\n",
    "\n",
    "def plot_trig(f):\n",
    "    #plots the function f over the range(-pi,pi)\n",
    "    xstep = np.pi/20.\n",
    "    xvals = np.arange(-np.pi,np.pi+xstep,xstep)\n",
    "    ax.plot(xvals,f(xvals),'-',lw=2)\n",
    "\n",
    "trig_func = (np.sin,np.cos,np.tan) #a tuple holding some trig functions\n",
    "\n",
    "fig = plt.figure()\n",
    "ax = fig.add_subplot(111)\n",
    "for func in trig_func:\n",
    "    #for each trig function test a value and plot a graph\n",
    "    print(\"function value at pi/6 is: \",func(np.pi/6))\n",
    "    plot_trig(func)\n",
    "\n",
    "ax.set_xlim(-np.pi,np.pi)\n",
    "ax.set_ylim(-2,2)\n",
    "\n",
    "fig.savefig(\"Trig_pass.png\",bbox_inches='tight',dpi=300)\n",
    "\n"
   ]
  },
  {
   "cell_type": "markdown",
   "metadata": {},
   "source": [
    "The functions in this example are stored in a list, referred to as elements in lists, and passed to other functions."
   ]
  },
  {
   "cell_type": "markdown",
   "metadata": {},
   "source": [
    "## Program Structure\n",
    "\n",
    "Python programs allow for a lot of flexibility, which is one of its strengths.  However, this much freedom can also be a source of confusion.  When we develop a program, we must employ some convention to make it easier for others to read and/or use.  This is similar to how we choose to write from left to right or drive on the *right* side of the road (those silly Brits).  As a result a common program structure is as follows:\n",
    "\n",
    "```\n",
    "#Program title\n",
    "#short description\n",
    "\n",
    "Import block #all import statements (numpy,scipy,matplotlib,etc.)\n",
    "\n",
    "Define constants #defining physical constants like G, k, c, etc.\n",
    "\n",
    "Function block # define each function (preferably in alpha order)\n",
    "\n",
    "Main program #this is where the magic happens\n",
    "\n",
    "Program end #sometimes you need to close the opened objects (files, figures, processing pool, etc.)\n",
    "```\n"
   ]
  },
  {
   "cell_type": "markdown",
   "metadata": {},
   "source": [
    "## Problems\n",
    "- Complete the following problems in a Jupyter notebook, where you will save your results as an external file (*.png).\n",
    "- Create a LaTex document with:\n",
    "    - an abstract summary\n",
    "    - sections for each problem that state the problem, summarize what you did, and display the results\n",
    "    - include a reference for each solution (this can be textbooks)\n",
    "\n",
    "1. Create a list holding the squares of the numbers between 10 and 20, including the endpoints.\n",
    "\n",
    "2. Write a Python program to print out the first *N* number of the Fibonacci sequence, where *N* is provided by the user and is greater than 2.\n",
    "\n",
    "3. Write a Python program that creates two lists (time and height) for a projectile thrown *vertically* at some initial velocity $v_i$.  The program should ask the user for the initial height $y_i$ and velocity $v_i$, and produce a table containing 50 data points over 5 seconds.\n",
    "\n",
    "4. The energy levels for a quantum particle in a 3D rectangular box of dimensions {$L_1$, $L_2$, and $L_3$} are given by:\n",
    "    $E = \\frac{\\hbar^2\\pi^2}{2m} \\sum_{i=1}^{3} \\left(\\frac{n_i}{L_i} \\right)^2$, where the $n_i\\geq 1$ and an integer.  Write a program that will calculate, and list in order of increasing energy, the *n*'s for the 10 lowest *different* energy levels, where $L_2 = 2L_1$ and $L_3 = 4L_1$.\n",
    "\n",
    "5. Write a function that calculates the value of the *n*th triangular number. Triangular numbers are formed by adding a series of integers {1,n} (see [triangular numbers](https://en.wikipedia.org/wiki/Triangular_number)).\n",
    "\n",
    "6. Write a Python program to make an $N \\times N$ multiplication table and write this table to a file.  Each row in the table should be a single line and tab-delimited.  The program size of the table and the filename should be supplied by the user."
   ]
  }
 ],
 "metadata": {
  "interpreter": {
   "hash": "cff387fdeb90e4ccced9dcd80621bb508127aaf7364e37afa52690e3819a2639"
  },
  "kernelspec": {
   "display_name": "Python 3.8.8 64-bit ('base': conda)",
   "name": "python3"
  },
  "language_info": {
   "codemirror_mode": {
    "name": "ipython",
    "version": 3
   },
   "file_extension": ".py",
   "mimetype": "text/x-python",
   "name": "python",
   "nbconvert_exporter": "python",
   "pygments_lexer": "ipython3",
   "version": "3.8.8"
  }
 },
 "nbformat": 4,
 "nbformat_minor": 4
}